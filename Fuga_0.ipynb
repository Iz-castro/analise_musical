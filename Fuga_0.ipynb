{
  "nbformat": 4,
  "nbformat_minor": 0,
  "metadata": {
    "colab": {
      "provenance": [],
      "authorship_tag": "ABX9TyNSXunIxD3RsujER8L8F5j7",
      "include_colab_link": true
    },
    "kernelspec": {
      "name": "python3",
      "display_name": "Python 3"
    },
    "language_info": {
      "name": "python"
    }
  },
  "cells": [
    {
      "cell_type": "markdown",
      "metadata": {
        "id": "view-in-github",
        "colab_type": "text"
      },
      "source": [
        "<a href=\"https://colab.research.google.com/github/Iz-castro/analise_musical/blob/main/Fuga_0.ipynb\" target=\"_parent\"><img src=\"https://colab.research.google.com/assets/colab-badge.svg\" alt=\"Open In Colab\"/></a>"
      ]
    },
    {
      "cell_type": "code",
      "source": [
        "from music21 import converter, stream, note, interval, meter"
      ],
      "metadata": {
        "id": "GI4n9xBsEp2y"
      },
      "execution_count": 1,
      "outputs": []
    },
    {
      "cell_type": "markdown",
      "source": [
        "#**Algoritmos do Gilberto**"
      ],
      "metadata": {
        "id": "-K7CU3M9rtdy"
      }
    },
    {
      "cell_type": "code",
      "source": [
        "# Função para calcular intervalos entre as notas de uma sequência\n",
        "def calcular_intervalos(notas):\n",
        "    intervalos = []\n",
        "    for i in range(len(notas) - 1):\n",
        "        intvl = interval.Interval(noteStart=notas[i], noteEnd=notas[i+1])\n",
        "        intervalos.append(intvl.semitones)\n",
        "    return intervalos"
      ],
      "metadata": {
        "id": "i2VJPie5rG4M"
      },
      "execution_count": 2,
      "outputs": []
    },
    {
      "cell_type": "code",
      "source": [
        "# Função para realizar a análise GPR (Grupo)\n",
        "def gpr_analise(notas):\n",
        "    # Exemplo: Agrupando notas com base em intervalos maiores que 2 semitons\n",
        "    grupos = []\n",
        "    grupo_atual = [notas[0]]\n",
        "    for i in range(1, len(notas)):\n",
        "        intervalo_atual = interval.Interval(noteStart=notas[i-1], noteEnd=notas[i]).semitones\n",
        "        if abs(intervalo_atual) > 2:  # Definir fronteiras de grupo\n",
        "            grupos.append(grupo_atual)\n",
        "            grupo_atual = []\n",
        "        grupo_atual.append(notas[i])\n",
        "    grupos.append(grupo_atual)  # Adicionar o último grupo\n",
        "    return grupos"
      ],
      "metadata": {
        "id": "g1zDxnGIrJg1"
      },
      "execution_count": 3,
      "outputs": []
    },
    {
      "cell_type": "code",
      "source": [
        "# Função para realizar a análise MS (Métrica)\n",
        "def calcular_peso_metrico(evento):\n",
        "    # Exemplo simples: peso maior para tempo forte\n",
        "    if evento.beat == 1:\n",
        "        return 3  # Tempo forte\n",
        "    elif evento.beat == 3:\n",
        "        return 2  # Meio do compasso\n",
        "    else:\n",
        "        return 1  # Tempo fraco"
      ],
      "metadata": {
        "id": "FohxfzwIrLQf"
      },
      "execution_count": 4,
      "outputs": []
    },
    {
      "cell_type": "code",
      "source": [
        "# Função para aplicar TSR (Redução Temporal)\n",
        "def calcular_tsr(notas):\n",
        "    pesos = [calcular_peso_metrico(n) for n in notas]\n",
        "    return pesos"
      ],
      "metadata": {
        "id": "eqb9UQvjrNUm"
      },
      "execution_count": 5,
      "outputs": []
    },
    {
      "cell_type": "code",
      "source": [
        "# Função para realizar a análise PRL (Redução Prolongacional)\n",
        "def calcular_tensao_prolongacional(notas):\n",
        "    # Exemplo simples: notas mais altas têm mais tensão\n",
        "    tensoes = [evento.pitch.ps for evento in notas]\n",
        "    return tensoes"
      ],
      "metadata": {
        "id": "I3JTMht5rPUF"
      },
      "execution_count": 6,
      "outputs": []
    },
    {
      "cell_type": "code",
      "source": [
        "# Função principal para realizar as análises e gerar o CSV\n",
        "def analisar_partitura_completa(score):\n",
        "    resultados_analise = []\n",
        "\n",
        "    for i, part in enumerate(score.parts):\n",
        "        voz = f\"Voz {i + 1}\"\n",
        "        measures = part.getElementsByClass('Measure')\n",
        "\n",
        "        for k, measure in enumerate(measures):\n",
        "            notas_compasso = [n for n in measure.notes if isinstance(n, note.Note)]\n",
        "\n",
        "            if notas_compasso:\n",
        "                # Realizar as análises GPR, MS, TSR, PRL\n",
        "                grupos = gpr_analise(notas_compasso)\n",
        "                pesos_metricos = calcular_tsr(notas_compasso)\n",
        "                tensao_prolongacional = calcular_tensao_prolongacional(notas_compasso)\n",
        "\n",
        "                resultados_analise.append({\n",
        "                    \"voz\": voz,\n",
        "                    \"compasso\": k + 1,\n",
        "                    \"grupos\": grupos,\n",
        "                    \"peso_metrico\": pesos_metricos,\n",
        "                    \"tensao_prolongacional\": tensao_prolongacional\n",
        "                })\n",
        "\n",
        "    return resultados_analise"
      ],
      "metadata": {
        "id": "0ahuvLF3rROB"
      },
      "execution_count": 7,
      "outputs": []
    },
    {
      "cell_type": "code",
      "source": [
        "# Carregar a partitura (exemplo)\n",
        "score = converter.parse('Fugue1.musicxml')"
      ],
      "metadata": {
        "id": "YBUwSP6FrTYb"
      },
      "execution_count": 8,
      "outputs": []
    },
    {
      "cell_type": "code",
      "source": [
        "# Aplicar a função de análise à partitura completa\n",
        "resultados_analise = analisar_partitura_completa(score)"
      ],
      "metadata": {
        "id": "oUiuf48lrWxb"
      },
      "execution_count": 9,
      "outputs": []
    },
    {
      "cell_type": "code",
      "source": [
        "# Gerar o CSV com os resultados das análises GPR, MS, TSR e PRL\n",
        "import csv\n",
        "with open(\"analises_tese.csv\", mode='w', newline='') as file:\n",
        "    writer = csv.writer(file)\n",
        "    writer.writerow([\"Voz\", \"Compasso\", \"Grupos (notas)\", \"Peso Métrico\", \"Tensão Prolongacional\"])\n",
        "\n",
        "    for res in resultados_analise:\n",
        "        # Transformar os dados em strings para escrever no CSV\n",
        "        grupos_str = '; '.join([', '.join([n.nameWithOctave for n in grupo]) for grupo in res[\"grupos\"]])\n",
        "        peso_metrico_str = ', '.join(map(str, res[\"peso_metrico\"]))\n",
        "        tensao_prolongacional_str = ', '.join(map(str, res[\"tensao_prolongacional\"]))\n",
        "\n",
        "        writer.writerow([res[\"voz\"], res[\"compasso\"], grupos_str, peso_metrico_str, tensao_prolongacional_str])\n",
        "\n",
        "print(\"Análise gerada e exportada para 'analises_tese.csv'.\")"
      ],
      "metadata": {
        "colab": {
          "base_uri": "https://localhost:8080/"
        },
        "id": "X_iy4n4BrYkr",
        "outputId": "faaab075-ddf3-4c6a-a8e8-be445856b789"
      },
      "execution_count": 10,
      "outputs": [
        {
          "output_type": "stream",
          "name": "stdout",
          "text": [
            "Análise gerada e exportada para 'analises_tese.csv'.\n"
          ]
        }
      ]
    },
    {
      "cell_type": "markdown",
      "source": [
        "#Pre Processando o CSV Original:"
      ],
      "metadata": {
        "id": "AUnz6KGTrxSM"
      }
    },
    {
      "cell_type": "code",
      "source": [
        "import csv\n",
        "\n",
        "# Caminho do CSV original gerado\n",
        "csv_original_path = \"analises_tese.csv\"\n",
        "\n",
        "# Caminho do novo CSV pré-processado\n",
        "csv_preprocessado_path = \"analises_preprocessadas.csv\""
      ],
      "metadata": {
        "id": "c2qzYL9sra1H"
      },
      "execution_count": 11,
      "outputs": []
    },
    {
      "cell_type": "code",
      "source": [
        "# Função para converter notas do formato string para MIDI\n",
        "def converter_notas_para_midi(notas_str):\n",
        "    notas_lista = notas_str.split(\"; \")\n",
        "    midi_values = []\n",
        "\n",
        "    for notas_grupo in notas_lista:\n",
        "        notas_individuais = notas_grupo.split(\", \")  # Separar as notas dentro de cada grupo\n",
        "        for nota_texto in notas_individuais:\n",
        "            try:\n",
        "                n = note.Note(nota_texto)\n",
        "                midi_values.append(n.pitch.midi)  # Adicionar valor MIDI\n",
        "            except Exception as e:\n",
        "                print(f\"Erro ao converter a nota {nota_texto}: {e}\")\n",
        "                midi_values.append(0)  # Tratar erros e adicionar pausa (valor 0)\n",
        "\n",
        "    return midi_values"
      ],
      "metadata": {
        "id": "2zm7gNwRr5Dk"
      },
      "execution_count": 12,
      "outputs": []
    },
    {
      "cell_type": "code",
      "source": [
        "# Ler o CSV original e criar o pré-processado com as notas em formato MIDI\n",
        "with open(csv_original_path, mode='r', newline='', encoding='utf-8') as file_in, \\\n",
        "        open(csv_preprocessado_path, mode='w', newline='', encoding='utf-8') as file_out:\n",
        "\n",
        "    reader = csv.reader(file_in)\n",
        "    writer = csv.writer(file_out)\n",
        "\n",
        "    # Copiar o cabeçalho\n",
        "    header = next(reader)\n",
        "    writer.writerow(header)\n",
        "\n",
        "    # Processar cada linha do CSV original\n",
        "    for row in reader:\n",
        "        # A coluna dos grupos de notas está no índice 2 (ajuste se necessário)\n",
        "        grupos_notas_midi = converter_notas_para_midi(row[2])  # Converte as notas para MIDI\n",
        "        grupos_notas_midi_str = ', '.join(map(str, grupos_notas_midi))  # Converte de volta para string para salvar no CSV\n",
        "\n",
        "        # Substituir a coluna de notas pela versão em MIDI\n",
        "        row[2] = grupos_notas_midi_str\n",
        "\n",
        "        # Escrever no novo CSV\n",
        "        writer.writerow(row)\n",
        "\n",
        "print(f\"CSV pré-processado gerado em: {csv_preprocessado_path}\")"
      ],
      "metadata": {
        "colab": {
          "base_uri": "https://localhost:8080/"
        },
        "id": "FO5xlncsr7HC",
        "outputId": "957a01ea-33b8-4fbb-8864-86a1936f7d4b"
      },
      "execution_count": 13,
      "outputs": [
        {
          "output_type": "stream",
          "name": "stdout",
          "text": [
            "CSV pré-processado gerado em: analises_preprocessadas.csv\n"
          ]
        }
      ]
    },
    {
      "cell_type": "markdown",
      "source": [
        "#**Dados Finais**"
      ],
      "metadata": {
        "id": "IWpu_Uy9sCmg"
      }
    },
    {
      "cell_type": "code",
      "source": [
        "from music21 import converter, note, chord, stream, instrument, midi, meter\n",
        "import csv"
      ],
      "metadata": {
        "id": "nnTkCXBgr9bv"
      },
      "execution_count": 27,
      "outputs": []
    },
    {
      "cell_type": "code",
      "source": [
        "# Função para converter nomes de notas para números MIDI\n",
        "def notas_para_midi(notas):\n",
        "    return [note.Pitch(n).midi for n in notas]\n",
        "\n",
        "# Função para calcular intervalos entre notas MIDI\n",
        "def calcular_intervalos_midi(notas_midi):\n",
        "    intervalos = []\n",
        "    for i in range(len(notas_midi) - 1):\n",
        "        intervalos.append(notas_midi[i+1] - notas_midi[i])\n",
        "    return intervalos"
      ],
      "metadata": {
        "id": "gzt2mrztsRiC"
      },
      "execution_count": 28,
      "outputs": []
    },
    {
      "cell_type": "code",
      "source": [
        "# Função para detectar motivos e transposições e coletar todos os elementos\n",
        "def detectar_elementos_completos(score):\n",
        "    dados = []\n",
        "\n",
        "    for i, part in enumerate(score.parts):\n",
        "        voz = f\"Voz {i + 1}\"  # Nomear as vozes como \"Voz 1\", \"Voz 2\", etc.\n",
        "        instr = part.getInstrument(returnDefault=False)\n",
        "        nome_instrumento = instr.instrumentName if instr is not None else voz\n",
        "\n",
        "        measures = part.getElementsByClass('Measure')\n",
        "\n",
        "        for k, measure in enumerate(measures):\n",
        "            for element in measure.notesAndRests:\n",
        "                if isinstance(element, note.Note):\n",
        "                    dados.append({\n",
        "                        'pitch': element.pitch.midi,  # Access .midi through .pitch\n",
        "                        'duration': element.duration.quarterLength,\n",
        "                        'offset': element.offset,\n",
        "                        'velocity': element.volume.velocity if element.volume.velocity is not None else 64,\n",
        "                        'instrument': nome_instrumento,\n",
        "                        'is_rest': False\n",
        "                    })\n",
        "                elif isinstance(element, note.Rest):\n",
        "                    dados.append({\n",
        "                        'pitch': None,\n",
        "                        'duration': element.duration.quarterLength,\n",
        "                        'offset': element.offset,\n",
        "                        'velocity': 0,  # Velocidade nula para rests\n",
        "                        'instrument': nome_instrumento,\n",
        "                        'is_rest': True\n",
        "                    })\n",
        "                elif isinstance(element, chord.Chord):\n",
        "                    dados.append({\n",
        "                        'pitch': [n.pitch.midi for n in element.notes],  # Access .midi through .pitch for each note in chord\n",
        "                        'duration': element.duration.quarterLength,\n",
        "                        'offset': element.offset,\n",
        "                        'velocity': element.volume.velocity if element.volume.velocity is not None else 64,\n",
        "                        'instrument': nome_instrumento,\n",
        "                        'is_rest': False\n",
        "                    })\n",
        "    return dados"
      ],
      "metadata": {
        "id": "JdM1kbIPsTBm"
      },
      "execution_count": 33,
      "outputs": []
    },
    {
      "cell_type": "code",
      "source": [
        "# Carregar a partitura (exemplo)\n",
        "score = converter.parse('Fugue1.musicxml')"
      ],
      "metadata": {
        "id": "F90Vnb_GsVCF"
      },
      "execution_count": 34,
      "outputs": []
    },
    {
      "cell_type": "code",
      "source": [
        "# Detectar todos os elementos musicais\n",
        "dados_completos = detectar_elementos_completos(score)"
      ],
      "metadata": {
        "id": "9SV8awxRsXYB"
      },
      "execution_count": 35,
      "outputs": []
    },
    {
      "cell_type": "code",
      "source": [
        "# Salvar os dados no CSV\n",
        "csv_filename = 'dados_completos_musica.csv'\n",
        "with open(csv_filename, mode='w', newline='') as file:\n",
        "    writer = csv.DictWriter(file, fieldnames=[\"pitch\", \"duration\", \"offset\", \"velocity\", \"instrument\", \"is_rest\"])\n",
        "    writer.writeheader()\n",
        "\n",
        "    for linha in dados_completos:\n",
        "        writer.writerow(linha)\n",
        "\n",
        "print(f\"Dados completos exportados para '{csv_filename}'.\")"
      ],
      "metadata": {
        "colab": {
          "base_uri": "https://localhost:8080/"
        },
        "id": "kSYGLLYNs3UM",
        "outputId": "26357a77-3a70-4084-89b9-cd3a1bae8333"
      },
      "execution_count": 36,
      "outputs": [
        {
          "output_type": "stream",
          "name": "stdout",
          "text": [
            "Dados completos exportados para 'dados_completos_musica.csv'.\n"
          ]
        }
      ]
    },
    {
      "cell_type": "code",
      "source": [
        "import pandas as pd"
      ],
      "metadata": {
        "id": "torXowFhtFNg"
      },
      "execution_count": 37,
      "outputs": []
    },
    {
      "cell_type": "code",
      "source": [
        "# Carregar o CSV gerado anteriormente\n",
        "csv_filename = 'dados_completos_musica.csv'\n",
        "df = pd.read_csv(csv_filename)"
      ],
      "metadata": {
        "id": "ELX5jtumtJRu"
      },
      "execution_count": 38,
      "outputs": []
    },
    {
      "cell_type": "code",
      "source": [
        "# Mapeamento para a coluna \"duration\"\n",
        "def ajustar_duration(duracao):\n",
        "    if duracao == 4:\n",
        "        return 1\n",
        "    elif duracao == 2:\n",
        "        return 2\n",
        "    elif duracao == 1:\n",
        "        return 4\n",
        "    elif duracao == 0.5:\n",
        "        return 8\n",
        "    elif duracao == 0.75:\n",
        "        return 12\n",
        "    elif duracao == 0.25:\n",
        "        return 16\n",
        "    elif duracao == 0.125:\n",
        "        return 32\n",
        "    elif duracao == 0.0625:\n",
        "        return 64\n",
        "    elif duracao == 0.03125:\n",
        "        return 128\n",
        "    else:\n",
        "        return duracao  # Manter o valor original se não estiver no mapeamento"
      ],
      "metadata": {
        "id": "cSNar1l3tLG3"
      },
      "execution_count": 39,
      "outputs": []
    },
    {
      "cell_type": "code",
      "source": [
        "# Aplicar o ajuste na coluna \"duration\"\n",
        "df['duration'] = df['duration'].apply(ajustar_duration)\n",
        "\n",
        "# Converter a coluna \"is_rest\" para 0 (não é um descanso) e 1 (é um descanso)\n",
        "df['is_rest'] = df['is_rest'].apply(lambda x: 1 if x else 0)\n",
        "\n",
        "# Manter o offset sem relação direta ao metrônomo, apenas convertendo em milissegundos\n",
        "df['offset'] = df['offset'] * 1000  # Assumindo que o offset original é em segundos, multiplicamos por 1000 para milissegundos"
      ],
      "metadata": {
        "id": "W6VGMJfZtbhD"
      },
      "execution_count": 40,
      "outputs": []
    },
    {
      "cell_type": "code",
      "source": [
        "# Salvar o CSV pré-processado\n",
        "csv_filename_processado = 'dados_preprocessados_completos_musica.csv'\n",
        "df.to_csv(csv_filename_processado, index=False)\n",
        "\n",
        "print(f\"CSV pré-processado salvo como '{csv_filename_processado}'.\")"
      ],
      "metadata": {
        "colab": {
          "base_uri": "https://localhost:8080/"
        },
        "id": "yLTRt-Qktd7j",
        "outputId": "57b9036c-db5d-4afa-e103-a859be6c955d"
      },
      "execution_count": 41,
      "outputs": [
        {
          "output_type": "stream",
          "name": "stdout",
          "text": [
            "CSV pré-processado salvo como 'dados_preprocessados_completos_musica.csv'.\n"
          ]
        }
      ]
    },
    {
      "cell_type": "code",
      "source": [],
      "metadata": {
        "id": "TB0Qdy_ytfuL"
      },
      "execution_count": null,
      "outputs": []
    }
  ]
}